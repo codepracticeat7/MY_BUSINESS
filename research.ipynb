{
 "cells": [
  {
   "cell_type": "code",
   "execution_count": 1,
   "id": "c00eceed",
   "metadata": {},
   "outputs": [
    {
     "name": "stdout",
     "output_type": "stream",
     "text": [
      "Note: you may need to restart the kernel to use updated packages.\n"
     ]
    },
    {
     "name": "stderr",
     "output_type": "stream",
     "text": [
      "ERROR: Could not find a version that satisfies the requirement caas_jupyter_tools (from versions: none)\n",
      "ERROR: No matching distribution found for caas_jupyter_tools\n"
     ]
    }
   ],
   "source": [
    "pip install caas_jupyter_tools"
   ]
  },
  {
   "cell_type": "code",
   "execution_count": 1,
   "id": "0bc60f2b",
   "metadata": {},
   "outputs": [
    {
     "name": "stdout",
     "output_type": "stream",
     "text": [
      "   3           RESUME                   0\n",
      "\n",
      "   4           LOAD_GLOBAL              1 (range + NULL)\n",
      "               LOAD_CONST               1 (5)\n",
      "               CALL                     1\n",
      "               GET_ITER\n",
      "               LOAD_FAST_AND_CLEAR      0 (x)\n",
      "               SWAP                     2\n",
      "       L1:     BUILD_LIST               0\n",
      "               SWAP                     2\n",
      "               GET_ITER\n",
      "       L2:     FOR_ITER                 7 (to L3)\n",
      "               STORE_FAST_LOAD_FAST     0 (x, x)\n",
      "               LOAD_CONST               2 (2)\n",
      "               BINARY_OP                8 (**)\n",
      "               LIST_APPEND              2\n",
      "               JUMP_BACKWARD            9 (to L2)\n",
      "       L3:     END_FOR\n",
      "               POP_TOP\n",
      "       L4:     SWAP                     2\n",
      "               STORE_FAST               0 (x)\n",
      "               RETURN_VALUE\n",
      "\n",
      "  --   L5:     SWAP                     2\n",
      "               POP_TOP\n",
      "\n",
      "   4           SWAP                     2\n",
      "               STORE_FAST               0 (x)\n",
      "               RERAISE                  0\n",
      "ExceptionTable:\n",
      "  L1 to L4 -> L5 [2]\n"
     ]
    }
   ],
   "source": [
    "import dis\n",
    "\n",
    "def build_list():\n",
    "    return [x**2 for x in range(5)]\n",
    "\n",
    "dis.dis(build_list)"
   ]
  },
  {
   "cell_type": "code",
   "execution_count": 3,
   "id": "e788aef6",
   "metadata": {},
   "outputs": [
    {
     "name": "stdout",
     "output_type": "stream",
     "text": [
      "0     True\n",
      "1    False\n",
      "2    False\n",
      "3     True\n",
      "4    False\n",
      "Name: name, dtype: bool\n",
      "    name  age city\n",
      "0  Alice   25   NY\n",
      "3  Alice   28   NY\n"
     ]
    }
   ],
   "source": [
    "import pandas as pd\n",
    "\n",
    "# Create a toy DataFrame\n",
    "data = {\n",
    "    \"name\": [\"Alice\", \"Bob\", \"Charlie\", \"Alice\", \"Eve\"],\n",
    "    \"age\": [25, 30, 35, 28, 40],\n",
    "    \"city\": [\"NY\", \"LA\", \"Chicago\", \"NY\", \"Boston\"]\n",
    "}\n",
    "df = pd.DataFrame(data)\n",
    "\n",
    "# Example filter: rows where name == \"Alice\"\n",
    "mask=df[\"name\"] == \"Alice\"\n",
    "print(mask)\n",
    "filtered_df = df[mask]\n",
    "print(filtered_df)\n",
    "\n",
    "\n"
   ]
  },
  {
   "cell_type": "code",
   "execution_count": null,
   "id": "28dd4585",
   "metadata": {},
   "outputs": [],
   "source": []
  }
 ],
 "metadata": {
  "kernelspec": {
   "display_name": ".venv",
   "language": "python",
   "name": "python3"
  },
  "language_info": {
   "codemirror_mode": {
    "name": "ipython",
    "version": 3
   },
   "file_extension": ".py",
   "mimetype": "text/x-python",
   "name": "python",
   "nbconvert_exporter": "python",
   "pygments_lexer": "ipython3",
   "version": "3.13.2"
  }
 },
 "nbformat": 4,
 "nbformat_minor": 5
}
